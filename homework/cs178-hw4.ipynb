{
 "cells": [
  {
   "cell_type": "markdown",
   "id": "6d15624c",
   "metadata": {
    "id": "43b7d466"
   },
   "source": [
    "# CS178 Homework 4\n",
    "\n",
    "## Due: Wednesday Nov 22 2023 (11:59pm)"
   ]
  },
  {
   "cell_type": "markdown",
   "id": "1fb52e11",
   "metadata": {
    "id": "a0921f03"
   },
   "source": [
    "---\n",
    "## Instructions\n",
    "\n",
    "\n",
    "This homework (and subsequent ones) will involve data analysis and reporting on methods and results\n",
    "using Python code. You will submit a **single PDF file** that contains everything to Gradescope. This includes any text you wish to include to describe your results, the complete code snippets of how you attempted each problem, any figures that were generated, and scans of any work on paper that you wish to include. It is important that you include enough detail that we know how you solved the problem, since otherwise we will be unable to grade it. \n",
    "\n",
    "Your homeworks will be given to you as Jupyter notebooks containing the problem descriptions and some template code that will help you get started. You are encouraged to use these starter Jupyter notebooks to complete your assignment and to write your report. This will help you not only ensure that all of the code for the solutions is included, but also will provide an easy way to export your results to a PDF file (for example, doing *print preview* and *printing to pdf*). I recommend liberal use of Markdown cells to create headers for each problem and sub-problem, explaining your implementation/answers, and including any mathematical equations. For parts of the homework you do on paper, scan it in such that it is legible (there are a number of free Android/iOS scanning apps, if you do not have access to a scanner), and include it as an image in the Jupyter notebook.\n",
    "\n",
    "**Double check that all of your answers are legible on Gradescope, e.g. make sure any text you have written does not get cut off.**\n",
    "\n",
    "If you have any questions/concerns about using Jupyter notebooks, ask us on EdD. If you decide not to use Jupyter notebooks, but go with Microsoft Word or LaTeX to create your PDF file, make sure that all of the answers can be generated from the code snippets included in the document.\n",
    "### Summary of Assignment: 100 total points\n",
    "- Problem 1:  Decision Trees by Hand (25 points)\n",
    "    - Problem 1.1:  Shannon Entropy (5 points)\n",
    "    - Problem 1.2:  Information Gain (10 points)\n",
    "    - Problem 1.3:  Full Tree (10 points)\n",
    "- Problem 2: Decision Trees in Python (40 points)\n",
    "    - Problem 2.1: Feature Statistics (10 points)\n",
    "    - Problem 2.2: Initial Tree (10 points)\n",
    "    - Problem 2.3: Exploring Depth Control (10 points)\n",
    "    - Problem 2.4: Exploring Leaf Size (10 points)\n",
    "- Problem 3: Random Forests (30 points)\n",
    "    - Problem 3.1: Training Members (15 points)\n",
    "    - Problem 3.2: Ensemble Prediction (15 points)\n",
    "- Statement of Collaboration (5 points)"
   ]
  },
  {
   "cell_type": "markdown",
   "id": "9af13d6a",
   "metadata": {
    "id": "648cdb14"
   },
   "source": [
    "Before we get started, let's import some libraries that you will make use of in this assignment. Make sure that you run the code cell below in order to import these libraries.\n",
    "\n",
    "**Important: In the code block below, we set `seed=1234`. This is to ensure your code has reproducible results and is important for grading. Do not change this. If you are not using the provided Jupyter notebook, make sure to also set the random seed as below.**\n",
    "\n",
    "**Important: Do not change any codes we give you below, except for those waiting for you to complete. This is to ensure your code has reproducible results and is important for grading.**"
   ]
  },
  {
   "cell_type": "code",
   "execution_count": 1,
   "id": "af098ebf",
   "metadata": {
    "colab": {
     "base_uri": "https://localhost:8080/"
    },
    "id": "f788ad34",
    "outputId": "e6f1442e-c54d-4eaf-b2e3-90ca864d2d3f"
   },
   "outputs": [],
   "source": [
    "import numpy as np\n",
    "import matplotlib.pyplot as plt\n",
    "\n",
    "import requests                                      # reading data\n",
    "from io import StringIO\n",
    "\n",
    "from sklearn.datasets import fetch_openml            # common data set access\n",
    "from sklearn.preprocessing import StandardScaler     # scaling transform\n",
    "from sklearn.model_selection import train_test_split # validation tools\n",
    "from sklearn.metrics import zero_one_loss as J01\n",
    "\n",
    "import sklearn.tree as tree\n",
    "\n",
    "# Fix the random seed for reproducibility\n",
    "# !! Important !! : do not change this\n",
    "seed = 1234\n",
    "np.random.seed(seed)  "
   ]
  },
  {
   "cell_type": "markdown",
   "id": "4513249e",
   "metadata": {},
   "source": [
    "---\n",
    "## Problem 1: Decision Trees for Spam"
   ]
  },
  {
   "cell_type": "markdown",
   "id": "a5bbbfac",
   "metadata": {},
   "source": [
    "In order to reduce my email load, I decide to implement a machine learning algorithm to decide whether or not I should read an email, or simply file it away instead.  To train my model, I obtain the following data set of binary-valued features about each email, including whether I know the author or not, whether the email is long or short, and whether it has any of several key words, along with my final decision about whether to read it ($y=+1$ for \"read\", $y=-1$ for \"discard\").\n",
    "\n",
    "| X1 | X2 | X3 | X4 | X5 | y |\n",
    "|----|----|----|----|----|----|\n",
    "| (know author?) | (is long?)| (has 'research'?) | (has 'grade'?) | (has 'lottery'?) | (read?) |\n",
    "| 0  | 0  | 1  | 1  | 0  | -1 |\n",
    "| 1  | 1  | 0  | 1  | 0  | -1 |\n",
    "| 0  | 1  | 1  | 1  | 1  | -1 |\n",
    "| 1  | 1  | 1  | 1  | 0  | -1 |\n",
    "| 0  | 1  | 0  | 0  | 0  | -1 |\n",
    "| 1  | 0  | 1  | 1  | 1  |  1 |\n",
    "| 0  | 0  | 1  | 0  | 0  |  1 |\n",
    "| 1  | 0  | 0  | 0  | 0  |  1 |\n",
    "| 1  | 0  | 1  | 1  | 0  |  1 |\n",
    "| 1  | 1  | 1  | 1  | 1  | -1 |\n",
    "\n",
    "In the case of any ties where both classes have equal probability, we will prefer to predict class $+1$."
   ]
  },
  {
   "cell_type": "markdown",
   "id": "0a7c7adb",
   "metadata": {},
   "source": [
    "Solve the following problems \"by hand\" (you can use python for logarithms, etc.)"
   ]
  },
  {
   "cell_type": "markdown",
   "id": "382229b7",
   "metadata": {},
   "source": [
    "### Problem 1.1   (5 points)\n",
    "\n",
    "**Calculate the Shannon entropy** $H(y)$ of the binary class variable $y$, in bits.  **Hint:** Your answer should be a number between 0 and 1."
   ]
  },
  {
   "cell_type": "markdown",
   "id": "00cc1731-7478-45b1-8cc5-d9f0991549e1",
   "metadata": {},
   "source": [
    "![1.1 calculation](hw4_1.1.png)"
   ]
  },
  {
   "cell_type": "markdown",
   "id": "79612bb6",
   "metadata": {},
   "source": [
    "### Problem 1.2  (5 points) \n",
    "\n",
    "**Calculate the information gain** for each feature $x_i$.  Which feature should be split first?"
   ]
  },
  {
   "cell_type": "markdown",
   "id": "2f71464c-f213-4173-99bf-a7cb6afeb025",
   "metadata": {},
   "source": [
    "![1.2 calculation](hw4_1.2.1.png)\n",
    "![1.2 calculation](hw4_1.2.2.png)"
   ]
  },
  {
   "cell_type": "markdown",
   "id": "0e7b1b6d",
   "metadata": {},
   "source": [
    "### Problem 1.3  (5 points)\n",
    "\n",
    "**Draw** (or otherwise illustrate) **the complete decision tree** that will be learned from these data."
   ]
  },
  {
   "cell_type": "markdown",
   "id": "82540ae9-531a-478e-aa9d-0df06fc6f3a9",
   "metadata": {},
   "source": [
    "![1.3 calculation](hw4_1.3.png)"
   ]
  },
  {
   "cell_type": "markdown",
   "id": "0584f48f",
   "metadata": {},
   "source": [
    "<div>\n",
    "    <img src=\"data:image/svg+xml,%3C%3Fxml%20version%3D%221.0%22%20encoding%3D%22UTF-8%22%20standalone%3D%22no%22%3F%3E%0A%3C%21DOCTYPE%20svg%20PUBLIC%20%22-//W3C//DTD%20SVG%201.1//EN%22%20%22http%3A//www.w3.org/Graphics/SVG/1.1/DTD/svg11.dtd%22%3E%0A%3Csvg%20stroke-miterlimit%3D%2210%22%20style%3D%22fill-rule%3Anonzero%3Bclip-rule%3Aevenodd%3Bstroke-linecap%3Around%3Bstroke-linejoin%3Around%3B%22%20version%3D%221.1%22%20viewBox%3D%220%200%20288%2072%22%20xml%3Aspace%3D%22preserve%22%20xmlns%3D%22http%3A//www.w3.org/2000/svg%22%20xmlns%3Axlink%3D%22http%3A//www.w3.org/1999/xlink%22%3E%0A%3Cdefs/%3E%0A%3Cg%20id%3D%22Layer-1%22%3E%0A%3Cpath%20d%3D%22M34.042%2035.8741C45.8469%2023.244%2031.1794%2022.6473%2024.2857%2024.1167C17.3921%2025.5861-0.960215%2033.2987%206.07817%2043.4256C13.1166%2053.5525%2023.0237%2056.9377%2052.2446%2053.4091C81.4656%2049.8804%2097.2436%2032.811%20122.962%2029.3111C148.681%2025.8112%20155.118%2039.4093%20155.118%2039.4093%22%20fill%3D%22none%22%20opacity%3D%221%22%20stroke%3D%22%23000000%22%20stroke-linecap%3D%22butt%22%20stroke-linejoin%3D%22round%22%20stroke-width%3D%223%22/%3E%0A%3Cpath%20d%3D%22M254.053%2040.6889C242.328%2053.1071%20256.999%2053.6247%20263.883%2052.1549C270.768%2050.685%20289.071%2043.0512%20281.969%2033.1691C274.868%2023.287%20264.94%2020.0179%20235.741%2023.6051C206.543%2027.1922%20190.872%2043.9744%20165.176%2047.5176C139.48%2051.0607%20132.957%2037.7776%20132.957%2037.7776%22%20fill%3D%22none%22%20opacity%3D%221%22%20stroke%3D%22%23000000%22%20stroke-linecap%3D%22butt%22%20stroke-linejoin%3D%22round%22%20stroke-width%3D%223%22/%3E%0A%3C/g%3E%0A%3C/svg%3E%0A\" width=\"200\"/>\n",
    "</div>"
   ]
  },
  {
   "cell_type": "markdown",
   "id": "e7058906",
   "metadata": {},
   "source": [
    "## Problem 2: Decision trees in Python"
   ]
  },
  {
   "cell_type": "markdown",
   "id": "58e33715",
   "metadata": {},
   "source": [
    "In the next problem, we will use decision trees to predict a data set used for Kaggle competitions in older iterations of the course; see e.g., \n",
    "https://www.kaggle.com/c/uc-irvine-cs273a-2016\n",
    "\n",
    "Note that I have altered the data from that competition to make the target variables +1 and -1, instead of 0/1, to better match some of the ensemble slides.\n",
    "\n",
    "First, let's load the data:"
   ]
  },
  {
   "cell_type": "code",
   "execution_count": 4,
   "id": "81a2d881",
   "metadata": {},
   "outputs": [
    {
     "name": "stderr",
     "output_type": "stream",
     "text": [
      "/Users/chrischo/miniconda3/envs/cs178/lib/python3.10/site-packages/urllib3/connectionpool.py:1095: InsecureRequestWarning: Unverified HTTPS request is being made to host 'www.ics.uci.edu'. Adding certificate verification is strongly advised. See: https://urllib3.readthedocs.io/en/latest/advanced-usage.html#tls-warnings\n",
      "  warnings.warn(\n",
      "/Users/chrischo/miniconda3/envs/cs178/lib/python3.10/site-packages/urllib3/connectionpool.py:1095: InsecureRequestWarning: Unverified HTTPS request is being made to host 'ics.uci.edu'. Adding certificate verification is strongly advised. See: https://urllib3.readthedocs.io/en/latest/advanced-usage.html#tls-warnings\n",
      "  warnings.warn(\n"
     ]
    }
   ],
   "source": [
    "url = 'https://www.ics.uci.edu/~ihler/classes/cs178/data/precip_train.txt'\n",
    "\n",
    "with requests.get(url, verify=False) as link: \n",
    "  data = np.genfromtxt(StringIO(link.text),delimiter=None)\n",
    "\n",
    "X,Y = data[:,:-1], data[:,-1]"
   ]
  },
  {
   "cell_type": "markdown",
   "id": "bb4f517f",
   "metadata": {},
   "source": [
    "#### Problem 2.1\n",
    "Compute and print some useful statistics about the data -- the minimum, maximum, mean, and variance of each of the features.\n",
    "\n",
    "In past assignments, we have first normalized the data (subtracting the mean and scaling each feature).  We will not do that here, however. Why is that step unnecessary for our decision tree model?"
   ]
  },
  {
   "cell_type": "code",
   "execution_count": 5,
   "id": "3ee86fcb",
   "metadata": {},
   "outputs": [
    {
     "name": "stdout",
     "output_type": "stream",
     "text": [
      "feature 1: minimum = 197.0, maximum = 253.0, mean = 241.89897349999998, variance = 81.19881598129776.\n",
      "feature 2: minimum = 190.0, maximum = 248.0, mean = 228.38130700000002, variance = 89.150265341751.\n",
      "feature 3: minimum = 214.97, maximum = 252.02, mean = 241.90593450000003, variance = 34.55774434670975.\n",
      "feature 4: minimum = 205.42, maximum = 252.02, mean = 233.8253765, variance = 94.50721140824776.\n",
      "feature 5: minimum = 10.0, maximum = 17130.0, mean = 2849.0465, variance = 10505588.30063775.\n",
      "feature 6: minimum = 0.0, maximum = 12338.0, mean = 862.8611, variance = 3090415.2075067903.\n",
      "feature 7: minimum = 0.0, maximum = 9238.0, mean = 163.65265, variance = 698073.3556979776.\n",
      "feature 8: minimum = 0.0, maximum = 27.419, mean = 3.0557549345, variance = 7.276890946708305.\n",
      "feature 9: minimum = 1.2189, maximum = 18.107, mean = 6.311441945, variance = 6.183003202965116.\n",
      "feature 10: minimum = 0.0, maximum = 11.368, mean = 1.8939148043499998, variance = 4.150931810214395.\n",
      "feature 11: minimum = 0.0, maximum = 18.771, mean = 4.289551351, variance = 3.944615292538295.\n",
      "feature 12: minimum = 0.0, maximum = 14.745, mean = 2.7977508345000004, variance = 1.9323439727669185.\n",
      "feature 13: minimum = 1.0271, maximum = 278.71, mean = 10.452536635, variance = 170.00184292005338.\n",
      "feature 14: minimum = -999.9, maximum = 769.2, mean = 7.65813, variance = 1528.9473589030997.\n"
     ]
    }
   ],
   "source": [
    "minimum = []\n",
    "maximum = []\n",
    "mean = []\n",
    "var = []\n",
    "for feature in range(X.shape[1]):\n",
    "    minimum.append(np.min(X[:,feature]))\n",
    "    maximum.append(np.max(X[:,feature]))\n",
    "    mean.append(np.mean(X[:,feature]))\n",
    "    var.append(np.var(X[:,feature]))\n",
    "    print(f'feature {feature + 1}: minimum = {minimum[feature]}, maximum = {maximum[feature]}, mean = {mean[feature]}, variance = {var[feature]}.')\n",
    "\n",
    "    \n"
   ]
  },
  {
   "cell_type": "markdown",
   "id": "0d1bb3f2-2346-4196-a179-e766e30ba33b",
   "metadata": {},
   "source": [
    "Normalize the data is unnecessary for out decision tree model because decision tree's threshold is based on a feature. Each time we split data, we only need to handle only one feature at a time. So normalize does not necessary."
   ]
  },
  {
   "cell_type": "markdown",
   "id": "6a9d1956",
   "metadata": {},
   "source": [
    "#### Problem 2.2\n",
    "To allow faster experimentation, select the first 10,000 data points as training data, ``Xtr, Ytr``, and the next 10,000 data points as validation, ``Xva, Yva``.  Then, learn a decision tree classifier on ``Xtr`` using the ``DecisionTreeClassifier`` class from ``scikit-learn``.  Use a large depth, say ``max_depth=100``, and the Shannon entropy impurity function in your training.  Also, use ``random_state=seed`` to ensure consistency.\n",
    "\n",
    "Compute and print out the training error rate and validation error rate of your model."
   ]
  },
  {
   "cell_type": "code",
   "execution_count": 6,
   "id": "5321aadf",
   "metadata": {},
   "outputs": [
    {
     "name": "stdout",
     "output_type": "stream",
     "text": [
      "Training error rate is 0.009800000000000031\n",
      "Validation error rate is 0.384\n"
     ]
    }
   ],
   "source": [
    "from sklearn.tree import DecisionTreeClassifier\n",
    "Xtr = X[:10000, :]\n",
    "Ytr = Y[:10000]\n",
    "Xva = X[10000:20000, :]\n",
    "Yva = Y[10000:20000]\n",
    "dtc = DecisionTreeClassifier(max_depth=100, criterion='entropy', random_state=seed)\n",
    "dtc.fit(Xtr, Ytr)\n",
    "print(f'Training error rate is {J01(dtc.predict(Xtr), Ytr)}')\n",
    "print(f'Validation error rate is {J01(dtc.predict(Xva), Yva)}')\n"
   ]
  },
  {
   "cell_type": "markdown",
   "id": "827a488a",
   "metadata": {},
   "source": [
    "#### Problem 2.3\n",
    "Now try varying the ``max_depth`` parameter, , which forces the tree learning algorithm to stop after at most that many levels.  Test ``max_depth`` values in the range {1, 2, 3, ..., 16}, and plot the training and validation error rates versus ``max_depth``.\n",
    "Do models with higher ``max_depth`` have higher or lower complexity?\n",
    "What choice of ``max_depth`` provides the best decision tree model?"
   ]
  },
  {
   "cell_type": "code",
   "execution_count": 7,
   "id": "f65b48db",
   "metadata": {},
   "outputs": [
    {
     "data": {
      "image/png": "[encoded data removed]",
      "text/plain": [
       "<Figure size 640x480 with 1 Axes>"
      ]
     },
     "metadata": {},
     "output_type": "display_data"
    }
   ],
   "source": [
    "train_error = []\n",
    "val_error = []\n",
    "depth = 1\n",
    "while depth <= 16:\n",
    "    dtc = DecisionTreeClassifier(max_depth=depth, criterion='entropy', random_state=seed)\n",
    "    dtc.fit(Xtr, Ytr)\n",
    "    train_error.append(J01(dtc.predict(Xtr), Ytr))\n",
    "    val_error.append(J01(dtc.predict(Xva), Yva))\n",
    "    depth += 1\n",
    "depth = list(range(1,17)) \n",
    "plt.plot(depth, train_error, c = 'blue', label= 'Train error')\n",
    "plt.plot(depth, val_error, c= 'red', label = 'validation error')\n",
    "plt.xlabel('depth')\n",
    "plt.ylabel('error rates')\n",
    "plt.legend()\n",
    "plt.show()\n",
    "\n"
   ]
  },
  {
   "cell_type": "markdown",
   "id": "c7cfe67c-039c-400e-9be6-34e6d88c5c9d",
   "metadata": {},
   "source": [
    "models with higher max_depth has higher complexity. Appropriate depth is 4."
   ]
  },
  {
   "cell_type": "markdown",
   "id": "988f96ae",
   "metadata": {},
   "source": [
    "#### Problem 2.4\n",
    "The ``min_samples_leaf`` parameter  controls the complexity of decision trees by lower bounding the amount of data required to split nodes when learning.  Fixing ``max_depth=100``, compute and plot the training and validation error rates for ``min_samples_leaf`` values in the range\n",
    "``{2**0, 2**1, 2**2, ... 2**17}``. \n",
    "Do models with higher ``min_samples_leaf`` have higher or lower complexity?\n",
    "What choice of ``min_samples_leaf`` provides the best decision tree model?\n",
    "Is this model better or worse than your depth-controlled model?"
   ]
  },
  {
   "cell_type": "code",
   "execution_count": 8,
   "id": "54bbf62b",
   "metadata": {},
   "outputs": [
    {
     "data": {
      "image/png": "[encoded data removed]",
      "text/plain": [
       "<Figure size 640x480 with 1 Axes>"
      ]
     },
     "metadata": {},
     "output_type": "display_data"
    }
   ],
   "source": [
    "train_error = []\n",
    "val_error = []\n",
    "sample = [2 ** i for i in range(18)]\n",
    "for i in sample:\n",
    "    dtc = DecisionTreeClassifier(max_depth=100, min_samples_leaf = i, criterion='entropy', random_state=seed)\n",
    "    dtc.fit(Xtr, Ytr)\n",
    "    train_error.append(J01(dtc.predict(Xtr), Ytr))\n",
    "    val_error.append(J01(dtc.predict(Xva), Yva))\n",
    "   \n",
    "plt.plot(sample, train_error, c = 'blue', label= 'Train error')\n",
    "plt.plot(sample, val_error, c= 'red', label = 'validation error')\n",
    "plt.xscale('log', base = 2)\n",
    "plt.xlabel('min_samples_leaf')\n",
    "plt.ylabel('error rates')\n",
    "plt.legend()\n",
    "plt.show()"
   ]
  },
  {
   "cell_type": "markdown",
   "id": "e016b213-f069-4a14-bebf-b69c8e3a23de",
   "metadata": {},
   "source": [
    "Higher min_samples_leaf have lower complexity. The best min_samples_leaf would be around 2^7. The model is worse than depth control model."
   ]
  },
  {
   "cell_type": "markdown",
   "id": "2774d3e7",
   "metadata": {},
   "source": [
    "<div>\n",
    "    <img src=\"data:image/svg+xml,%3C%3Fxml%20version%3D%221.0%22%20encoding%3D%22UTF-8%22%20standalone%3D%22no%22%3F%3E%0A%3C%21DOCTYPE%20svg%20PUBLIC%20%22-//W3C//DTD%20SVG%201.1//EN%22%20%22http%3A//www.w3.org/Graphics/SVG/1.1/DTD/svg11.dtd%22%3E%0A%3Csvg%20stroke-miterlimit%3D%2210%22%20style%3D%22fill-rule%3Anonzero%3Bclip-rule%3Aevenodd%3Bstroke-linecap%3Around%3Bstroke-linejoin%3Around%3B%22%20version%3D%221.1%22%20viewBox%3D%220%200%20288%2072%22%20xml%3Aspace%3D%22preserve%22%20xmlns%3D%22http%3A//www.w3.org/2000/svg%22%20xmlns%3Axlink%3D%22http%3A//www.w3.org/1999/xlink%22%3E%0A%3Cdefs/%3E%0A%3Cg%20id%3D%22Layer-1%22%3E%0A%3Cpath%20d%3D%22M34.042%2035.8741C45.8469%2023.244%2031.1794%2022.6473%2024.2857%2024.1167C17.3921%2025.5861-0.960215%2033.2987%206.07817%2043.4256C13.1166%2053.5525%2023.0237%2056.9377%2052.2446%2053.4091C81.4656%2049.8804%2097.2436%2032.811%20122.962%2029.3111C148.681%2025.8112%20155.118%2039.4093%20155.118%2039.4093%22%20fill%3D%22none%22%20opacity%3D%221%22%20stroke%3D%22%23000000%22%20stroke-linecap%3D%22butt%22%20stroke-linejoin%3D%22round%22%20stroke-width%3D%223%22/%3E%0A%3Cpath%20d%3D%22M254.053%2040.6889C242.328%2053.1071%20256.999%2053.6247%20263.883%2052.1549C270.768%2050.685%20289.071%2043.0512%20281.969%2033.1691C274.868%2023.287%20264.94%2020.0179%20235.741%2023.6051C206.543%2027.1922%20190.872%2043.9744%20165.176%2047.5176C139.48%2051.0607%20132.957%2037.7776%20132.957%2037.7776%22%20fill%3D%22none%22%20opacity%3D%221%22%20stroke%3D%22%23000000%22%20stroke-linecap%3D%22butt%22%20stroke-linejoin%3D%22round%22%20stroke-width%3D%223%22/%3E%0A%3C/g%3E%0A%3C/svg%3E%0A\" width=\"200\"/>\n",
    "</div>"
   ]
  },
  {
   "cell_type": "markdown",
   "id": "75588a6f",
   "metadata": {},
   "source": [
    "## Problem 3: Random Forests"
   ]
  },
  {
   "cell_type": "markdown",
   "id": "685445d0",
   "metadata": {},
   "source": [
    "Although ``scikit`` has its own implementations of bagging estimators and random forests, here we will build a random forest model manually, for illustration.\n",
    "\n",
    "Random Forests are bagged collections of decision trees, which select their decision nodes from randomly chosen subsets of the possible features (rather than all features).  You can implement this easily in ``DecisionTreeClassifier`` using option ``max_features=n``, where ``n`` is the number of features to select from (e.g., n=50 or n=60 might be good choices if there are 90-some features).\n",
    "You'll write a for-loop to build the ensemble members, and another to compute the prediction of the ensemble."
   ]
  },
  {
   "cell_type": "markdown",
   "id": "eaa1e5fd",
   "metadata": {},
   "source": [
    "#### Problem 3.1 \n",
    "\n",
    "Using your validation split, learn a bagged ensemble of decision trees on the training data\n",
    "and evaluate validation performance.\n",
    "(See the pseudocode from lecture slides.)\n",
    "For your individual learners, use little complexity control (depth cutoff 15+, min leaf 1-4, etc.), since the bagging will be used to control overfitting instead.\n",
    "\n",
    "You will implement bootstrap sampling yourself (again, see pseudocode); simply generate $m'$ data indices uniformly with replacement, using ``numpy`` functions or simply ``rand`` and conversion to integers.\n",
    "For your bootstrap process, draw the same number of data as in your training set after the\n",
    "validation split (i.e., set $m' = m$, the number of training data).\n",
    "\n",
    "Learn at least 50 ensemble members, as you will use them in the next part."
   ]
  },
  {
   "cell_type": "code",
   "execution_count": 11,
   "id": "7248e993",
   "metadata": {},
   "outputs": [],
   "source": [
    "def bagged_ensemble(num):\n",
    "    m,n = Xtr.shape\n",
    "    numbags = num\n",
    "    mbags = m\n",
    "    classifier = []\n",
    "    for b in range(numbags):\n",
    "        ind = (m*np.random.rand(mbags)).astype(int) #np.random.rand(i) generate a list has i elements in 0 - 1\n",
    "        Xb, Yb = Xtr[ind, :], Ytr[ind]\n",
    "        dtc = DecisionTreeClassifier(max_depth = 15, min_samples_leaf = 2, max_features = (n//3 * 2), criterion='entropy', random_state=seed)\n",
    "        dtc.fit(Xb, Yb)\n",
    "        classifier.append(dtc)\n",
    "    return classifier\n",
    "    "
   ]
  },
  {
   "cell_type": "markdown",
   "id": "0c1516e1",
   "metadata": {},
   "source": [
    "#### Problem 3.2 \n",
    "\n",
    "Plot the training and validation error of the ensemble as a function of the number of learners $B$ that you include in the ensemble, for (at least) values $B \\in \\{1,5,10,25,50\\}$.  (Just use the first $B$ learners that you trained in part 1.)\n",
    "\n",
    "Remember that your ensemble predicts by making a prediction for each member model, and then taking a vote among the $B$ models.  Since your target classes are +1 and -1, as in the slide pseudocode, to find the outcome of the vote you can simply check whether the average of the class predictions is positive or negative."
   ]
  },
  {
   "cell_type": "code",
   "execution_count": 17,
   "id": "d4b298ed",
   "metadata": {},
   "outputs": [
    {
     "data": {
      "image/png": "[encoded data removed]",
      "text/plain": [
       "<Figure size 640x480 with 1 Axes>"
      ]
     },
     "metadata": {},
     "output_type": "display_data"
    }
   ],
   "source": [
    "B = [1,5,10,25,50]\n",
    "va_error = []\n",
    "tr_error = []\n",
    "for i in B:\n",
    "    learner = bagged_ensemble(i)\n",
    "    m_va_Test = Xva.shape[0]\n",
    "    m_tr_Test = Xtr.shape[0]\n",
    "    va_predict = np.zeros((m_va_Test, i))\n",
    "    tr_predict = np.zeros((m_tr_Test, i))\n",
    "    for j in range(i):\n",
    "        va_predict[:,j] = learner[j].predict(Xva)\n",
    "        tr_predict[:,j] = learner[j].predict(Xtr)\n",
    "    \n",
    "    va_predict = np.mean(va_predict, axis=1) > 0\n",
    "    tr_predict = np.mean(tr_predict, axis=1) > 0\n",
    "    va_error.append(J01(va_predict, Yva))\n",
    "    tr_error.append(J01(tr_predict, Ytr))\n",
    "    #print(f'Traing error is {tr_error}, Val error is {va_error}')\n",
    "\n",
    "plt.plot(B, tr_error, label = 'Training error')\n",
    "plt.plot(B, va_error, label = 'Validation error')\n",
    "plt.xlabel('number of bags')\n",
    "plt.ylabel('error')\n",
    "plt.legend()\n",
    "plt.show()\n",
    "    \n",
    "    \n",
    "    "
   ]
  },
  {
   "cell_type": "markdown",
   "id": "7fbc16ed",
   "metadata": {},
   "source": [
    "<div>\n",
    "    <img src=\"data:image/svg+xml,%3C%3Fxml%20version%3D%221.0%22%20encoding%3D%22UTF-8%22%20standalone%3D%22no%22%3F%3E%0A%3C%21DOCTYPE%20svg%20PUBLIC%20%22-//W3C//DTD%20SVG%201.1//EN%22%20%22http%3A//www.w3.org/Graphics/SVG/1.1/DTD/svg11.dtd%22%3E%0A%3Csvg%20stroke-miterlimit%3D%2210%22%20style%3D%22fill-rule%3Anonzero%3Bclip-rule%3Aevenodd%3Bstroke-linecap%3Around%3Bstroke-linejoin%3Around%3B%22%20version%3D%221.1%22%20viewBox%3D%220%200%20288%2072%22%20xml%3Aspace%3D%22preserve%22%20xmlns%3D%22http%3A//www.w3.org/2000/svg%22%20xmlns%3Axlink%3D%22http%3A//www.w3.org/1999/xlink%22%3E%0A%3Cdefs/%3E%0A%3Cg%20id%3D%22Layer-1%22%3E%0A%3Cpath%20d%3D%22M34.042%2035.8741C45.8469%2023.244%2031.1794%2022.6473%2024.2857%2024.1167C17.3921%2025.5861-0.960215%2033.2987%206.07817%2043.4256C13.1166%2053.5525%2023.0237%2056.9377%2052.2446%2053.4091C81.4656%2049.8804%2097.2436%2032.811%20122.962%2029.3111C148.681%2025.8112%20155.118%2039.4093%20155.118%2039.4093%22%20fill%3D%22none%22%20opacity%3D%221%22%20stroke%3D%22%23000000%22%20stroke-linecap%3D%22butt%22%20stroke-linejoin%3D%22round%22%20stroke-width%3D%223%22/%3E%0A%3Cpath%20d%3D%22M254.053%2040.6889C242.328%2053.1071%20256.999%2053.6247%20263.883%2052.1549C270.768%2050.685%20289.071%2043.0512%20281.969%2033.1691C274.868%2023.287%20264.94%2020.0179%20235.741%2023.6051C206.543%2027.1922%20190.872%2043.9744%20165.176%2047.5176C139.48%2051.0607%20132.957%2037.7776%20132.957%2037.7776%22%20fill%3D%22none%22%20opacity%3D%221%22%20stroke%3D%22%23000000%22%20stroke-linecap%3D%22butt%22%20stroke-linejoin%3D%22round%22%20stroke-width%3D%223%22/%3E%0A%3C/g%3E%0A%3C/svg%3E%0A\" width=\"200\"/>\n",
    "</div>"
   ]
  },
  {
   "cell_type": "markdown",
   "id": "991c69cc",
   "metadata": {
    "id": "4a052765"
   },
   "source": [
    "---\n",
    "### Statement of Collaboration (5 points)\n",
    "\n",
    "It is **mandatory** to include a Statement of Collaboration in each submission, with respect to the guidelines below. Include the names of everyone involved in the discussions (especially in-person ones), and what was discussed.\n",
    "\n",
    "All students are required to follow the academic honesty guidelines posted on the course website. For\n",
    "programming assignments, in particular, I encourage the students to organize (perhaps using EdD) to\n",
    "discuss the task descriptions, requirements, bugs in my code, and the relevant technical content before they start\n",
    "working on it. However, you should not discuss the specific solutions, and, as a guiding principle, you are not\n",
    "allowed to take anything written or drawn away from these discussions (i.e. no photographs of the blackboard,\n",
    "written notes, referring to EdD, etc.). Especially after you have started working on the assignment, try\n",
    "to restrict the discussion to EdD as much as possible, so that there is no doubt as to the extent of your\n",
    "collaboration."
   ]
  },
  {
   "cell_type": "markdown",
   "id": "e2f3d5a2-3495-4cb8-bb35-840e87768f79",
   "metadata": {},
   "source": [
    "I collaborate with Lucas"
   ]
  },
  {
   "cell_type": "code",
   "execution_count": null,
   "id": "64324bd0-2e89-41d7-b923-f9119bda37f8",
   "metadata": {},
   "outputs": [],
   "source": []
  }
 ],
 "metadata": {
  "colab": {
   "collapsed_sections": [],
   "provenance": []
  },
  "hide_input": false,
  "kernelspec": {
   "display_name": "Python 3 (ipykernel)",
   "language": "python",
   "name": "python3"
  },
  "language_info": {
   "codemirror_mode": {
    "name": "ipython",
    "version": 3
   },
   "file_extension": ".py",
   "mimetype": "text/x-python",
   "name": "python",
   "nbconvert_exporter": "python",
   "pygments_lexer": "ipython3",
   "version": "3.10.13"
  },
  "toc": {
   "base_numbering": 1,
   "nav_menu": {},
   "number_sections": true,
   "sideBar": true,
   "skip_h1_title": false,
   "title_cell": "Table of Contents",
   "title_sidebar": "Contents",
   "toc_cell": false,
   "toc_position": {},
   "toc_section_display": true,
   "toc_window_display": false
  },
  "varInspector": {
   "cols": {
    "lenName": 16,
    "lenType": 16,
    "lenVar": 40
   },
   "kernels_config": {
    "python": {
     "delete_cmd_postfix": "",
     "delete_cmd_prefix": "del ",
     "library": "var_list.py",
     "varRefreshCmd": "print(var_dic_list())"
    },
    "r": {
     "delete_cmd_postfix": ") ",
     "delete_cmd_prefix": "rm(",
     "library": "var_list.r",
     "varRefreshCmd": "cat(var_dic_list()) "
    }
   },
   "types_to_exclude": [
    "module",
    "function",
    "builtin_function_or_method",
    "instance",
    "_Feature"
   ],
   "window_display": false
  }
 },
 "nbformat": 4,
 "nbformat_minor": 5
}
